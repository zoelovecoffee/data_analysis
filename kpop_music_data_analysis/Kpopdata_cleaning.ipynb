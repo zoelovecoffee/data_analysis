{
 "cells": [
  {
   "cell_type": "markdown",
   "metadata": {},
   "source": [
    "虽然K-pop产业(Korean popular music)在本世纪初才面世，它在过去几年里却经历了飞速的国际化发展。Google现任首席执行官Sundar Pichai在2020届毕业生演讲“You will Prevail”里提到“I certainly never thought I’d be sharing a virtual stage with a former President…a First Lady, a Lady Gaga, and a Queen Bey…not to mention BTS”，可见K-pop文化在世界娱乐行业内的影响，尤其是在如今的互联网信息时代。K-pop产业的发展也同时带动了相应粉丝经济的蓬勃发展，在这次实验里，我们将通过分析K-pop粉丝的信息和行为来了解此行业。<br>"
   ]
  },
  {
   "cell_type": "markdown",
   "metadata": {},
   "source": [
    "本次实验有三种类型的数据：<br>\n",
    "\n",
    "1. 仅文字描述（复杂）: \n",
    "每个输入值的大小写不一致，分割符号不一致，且有乱码和个人文字描述的存在。比如以下这一列的输入值：\n",
    "\n",
    "|Which is your favourite K-Pop group?|\n",
    "|----|\n",
    "|BTS;EXO;BLACKPINK;MONSTA X;Iâ€™m a multi-stan|\n",
    "|BTS;EXO;MONSTA X;svt. got7. ateez. nct.|\n",
    "|BTS;MONSTA X;a.c.e / nct / shinee / berrygood|\n",
    "|BTS;EXO;I like many other group both not well known and well known|\n",
    "\n",
    " \n",
    "2. 文字描述+固定选项（中等）:\n",
    "输入值既有格式不一的文字描述也有固定格式的选项。比如以下这一列的输入值：\n",
    "\n",
    "|Has consuming K-Pop taken away most of your time?|\n",
    "|----|\n",
    "|Yes|\n",
    "|No|\n",
    "|If you mean spending the night watching BTS crack or try not to laugh, than yes|\n",
    "|Not sure|\n",
    "\n",
    "\n",
    "3. 仅固定选项（简单）:\n",
    "输入值为固定格式的选项。比如下面这一列的输入值有且仅有四种情况：\n",
    "\n",
    "|Is K-Pop popular in your country?|\n",
    "|----|\n",
    "|Yes|\n",
    "|No|\n",
    "|Its gaining popularity|\n",
    "|I'm not sure|\n",
    "\n",
    "在进行数据清洗时可以将这三类数据分开来清洗。"
   ]
  },
  {
   "cell_type": "markdown",
   "metadata": {},
   "source": [
    "### 步骤1 安装并引入必要的库"
   ]
  },
  {
   "cell_type": "code",
   "execution_count": null,
   "metadata": {},
   "outputs": [],
   "source": [
    "!pip install pandas==0.25.0\n",
    "!pip install xlrd==1.2.0"
   ]
  },
  {
   "cell_type": "code",
   "execution_count": null,
   "metadata": {},
   "outputs": [],
   "source": [
    "import pandas as pd\n",
    "import re"
   ]
  },
  {
   "cell_type": "markdown",
   "metadata": {},
   "source": [
    "### 步骤2 导入数据并进行初步的整理"
   ]
  },
  {
   "cell_type": "markdown",
   "metadata": {},
   "source": [
    "查看数据格式，删除不需要的列，把其余每一列的列名简化。"
   ]
  },
  {
   "cell_type": "code",
   "execution_count": null,
   "metadata": {},
   "outputs": [],
   "source": [
    "#读取Excel里的数据\n",
    "df = pd.read_excel(\"KPOP_DATA.xlsx\")     \n",
    "#添加'Num'这个列\n",
    "df['Num'] = [i for i in range(len(df))]    \n",
    "col = list(df.columns.values)   \n",
    " #将添加的'Num'列从最后一列变为第一列\n",
    "df = df[[col[-1]] + col[0:23]]          "
   ]
  },
  {
   "cell_type": "code",
   "execution_count": null,
   "metadata": {},
   "outputs": [],
   "source": [
    "#把Timestamp这一列删除\n",
    "df = df.drop(columns=['Timestamp'])   \n",
    "#对其余每一列进行重命名\n",
    "df = df.rename(columns={                   \n",
    "        'Which is your favourite K-Pop group?':'fav_group',          \n",
    "        'Is K-Pop popular in your country? ':'pop_by_country', \n",
    "        'Why do you like K-Pop?':\"reason\",\n",
    "        'When did you start listening to K-Pop?':\"first_year\",\n",
    "        'Do you listen to K-Pop male groups more than girl group songs?':\"kpop_gender_pref\",\n",
    "        'How many hours do you spend listening to K-Pop?':\"daily_music_hr\",\n",
    "        'Do you watch K-Pop Youtube videos?':\"watch_mv_yn\",\n",
    "        'If you do watch K-Pop music videos, how long do you spend watching them?':\"daily_mv_hr\",\n",
    "        'Would you say that you are obsessed with K-Pop?':\"obsessed_yn\",\n",
    "        'What do you do to keep up with K-Pop news?':\"kpop_news\",\n",
    "        'Has K-Pop led you to pursue any of the following?':\"pursuit\",\n",
    "        'Has consuming K-Pop taken away most of your time?':\"time_consume_yn\",\n",
    "        'Has consuming K-Pop affected your personal life in the following ways?':\"life_changing\",\n",
    "        'Have you experienced any positive effects after consuming K-Pop? ':\"pos_eff\",\n",
    "        'On an average, in one year, how much do you spend on K-Pop merchandise?':\"merch_spent_yr\",\n",
    "        'If you do spend money on K-Pop merchandise, where do you get money from?':\"money_obtain\",\n",
    "        'Do you attend K-Pop concerts?':\"concert_yn\",\n",
    "        'What is the craziest thing you have done in your pursuit and love for K-Pop?':\"crazy_thing\",\n",
    "        'How old are you?':\"age\", \n",
    "        'Which country are you from?':\"domicile\",\n",
    "        'What is your profession?':\"job\",\n",
    "         'What is your gender?':\"gender\"\n",
    "         })                   "
   ]
  },
  {
   "cell_type": "markdown",
   "metadata": {},
   "source": [
    "### 步骤3 清洗格式不一致的列"
   ]
  },
  {
   "cell_type": "markdown",
   "metadata": {},
   "source": [
    "#### 3.1 用主要元素建立词典：<br>\n",
    "查看数据可发现fav_group这一列的数据比较杂乱，group name的格式不一致（大小写，空格，笔误），也没有一致的分割符。在这一步先建立词典，列出组合名可能的表达形式。"
   ]
  },
  {
   "cell_type": "code",
   "execution_count": null,
   "metadata": {},
   "outputs": [],
   "source": [
    "#建立组合名的词典，词典的键包含了问卷结果里出现次数较高的组合名，对应的值包含了该组合名在问卷结果里的各种写法\n",
    "group_dict = {            \n",
    "\"BTS\" : [\"BTS\"],\n",
    "\"MONSTA X\" : [\"MONSTAX\", \"MONSTA X\"],\n",
    "\"EXO\" : [\"EXO\"],\n",
    "\"BLACKPINK\" : [\"BLACKPINK\", \"BLACK PINK\"],\n",
    "\"STRAY KIDS\" : [\"STRAY KIDS\", \"STRAYKIDS\"],\n",
    "\"NCT\" : [\"NCT\"],\n",
    "\"GOT7\" : [\"GOT7\", \"GOT 7\"],\n",
    "\"SEVENTEEN\" : [\"SEVENTEEN\", \"SEVENTERN\", \"SEVEN TEEN\"],\n",
    "\"ATEEZ\" : [\"ATEEZ\"],\n",
    "\"SHINEE\" : [\"SHINEE\"],\n",
    "\"TWICE\":[\"TWICE\"],\n",
    "\"MAMAMOO\":[\"MAMAMOO\"],\n",
    "\"BIGBANG\":[\"BIGBANG\",\"BIG BANG\"]\n",
    "}  \n"
   ]
  },
  {
   "cell_type": "markdown",
   "metadata": {},
   "source": [
    "#### 3.2 建立新的DataFrame，填入0/1值：<br>\n",
    "建立以调查对象为行，组合名为列的DataFrame。若调查对象喜欢组合则标1，反之标0。"
   ]
  },
  {
   "cell_type": "code",
   "execution_count": null,
   "metadata": {},
   "outputs": [],
   "source": [
    "#建立一个新的空白dataframe\n",
    "favgroup_df = pd.DataFrame()  \n",
    "#建立第一列 \n",
    "favgroup_df['Num'] = df['Num']  \n",
    "#用组合名词典里的键建立其余的列\n",
    "for tmp in group_dict.keys():  \n",
    "    #lambda函数在被提到的组合处标1，未被提到标0\n",
    "    favgroup_df[tmp] = df[\"fav_group\"].apply(lambda x: 1 if any(keyword in x.upper() for keyword in group_dict[tmp]) else 0)\n"
   ]
  },
  {
   "cell_type": "markdown",
   "metadata": {},
   "source": [
    "#### 3.3 定义函数：<br>\n",
    "定义函数将未出现在词典里的组合列为other。"
   ]
  },
  {
   "cell_type": "code",
   "execution_count": null,
   "metadata": {},
   "outputs": [],
   "source": [
    "#创建函数，对于没有出现在group_dict里的组合将其归类为other\n",
    "def other_group(x): \n",
    "    #建立空列表  \n",
    "    check_list = []          \n",
    "    for tmp in re.split(';|; | & |, |,| / | and |,and ',x):\n",
    "        #读取每个输入项，并在读取的同时把输入项在;|; | & |, |,| / | and |,and 处分割\n",
    "        if all(all(keyword not in tmp.upper() for keyword in group_dict[group]) for group in group_dict.keys()):\n",
    "            #每个输入项被分割后成为一个列表，检查列表里的每个元素大写后是否能匹配group_dict里的任何值\n",
    "            check_list.append(True)\n",
    "            #不能匹配任何值的话标True\n",
    "        else:\n",
    "            check_list.append(False)\n",
    "            #否则标False\n",
    "    \n",
    "    if any(check_list):   \n",
    "        #每个输入项被分割后，有任一元素无法与group_dict里的任何值匹配，输出1\n",
    "        return 1         \n",
    "    else:\n",
    "        #否则输出0\n",
    "        return 0         "
   ]
  },
  {
   "cell_type": "markdown",
   "metadata": {},
   "source": [
    "#### 3.4 导出csv表格："
   ]
  },
  {
   "cell_type": "code",
   "execution_count": null,
   "metadata": {},
   "outputs": [],
   "source": [
    "#创建新的列，命名为Others，用上述定义的other_group函数对输入项是否为Others进行0/1标号。\n",
    "favgroup_df[\"Others\"] = df[\"fav_group\"].apply(lambda x: other_group(x))  \n",
    "#查看前五行\n",
    "favgroup_df.head()\n",
    "#导出csv表格用于制作可视化图表\n",
    "favgroup_df.to_csv(\"favgroup.csv\", index = False)"
   ]
  },
  {
   "cell_type": "markdown",
   "metadata": {},
   "source": [
    "以上清洗的favgroup是格式较乱的一列，因为每个输入项都是简答题，所以格式多样复杂。接下来清洗的列相对整齐，它们的输入由固定格式的单项/多项选择题和简答题组成。"
   ]
  },
  {
   "cell_type": "markdown",
   "metadata": {},
   "source": [
    "### 步骤4 清洗数据格式为“固定选项+文字描述”的列："
   ]
  },
  {
   "cell_type": "markdown",
   "metadata": {},
   "source": [
    "#### 4.1 清洗reason列的数据："
   ]
  },
  {
   "cell_type": "markdown",
   "metadata": {},
   "source": [
    "##### 4.1.1 列出调查结果里的主要reason"
   ]
  },
  {
   "cell_type": "code",
   "execution_count": null,
   "metadata": {},
   "outputs": [],
   "source": [
    "#建立空白列表\n",
    "reason_list = []\n",
    "#读取reason这一列\n",
    "tmp = df['reason'].to_list()\n",
    "for reasons in tmp:\n",
    "    for reason in reasons.split(';'):\n",
    "        #原因与原因之间由分号隔开，便可以通过在分号处做分割来建立所有原因的列表\n",
    "        reason_list.append(reason)   \n",
    "\n",
    "#对每一种原因出现的次数进行计数（用这个方法可以把调查对象的文字描述也列出来看一下）\n",
    "reason_count = pd.Series(reason_list).value_counts()   \n",
    "#列出出现次数大于一次的原因\n",
    "top_reasons_list = list(reason_count[reason_count>1].index)  "
   ]
  },
  {
   "cell_type": "markdown",
   "metadata": {},
   "source": [
    "##### 4.1.2 处理固定选项：创建新的DataFrame，用原因列表里的元素作为列"
   ]
  },
  {
   "cell_type": "code",
   "execution_count": null,
   "metadata": {},
   "outputs": [],
   "source": [
    "#建立一个新的空白dataframe\n",
    "reason_df = pd.DataFrame() \n",
    "#建立第一列\n",
    "reason_df['Num'] = df['Num']    \n",
    "#调查对象的文字描述里带有“all”或“everything”的话要把此对象在每个原因处标1\n",
    "all_list = [\"all\", \"everything\"]     \n",
    "#用原因列表里的元素建立其余的列\n",
    "for reason in top_reasons_list:     \n",
    "    reason_df[reason] = df['reason'].apply(lambda x: 1 if (reason in x) or (any(keyword in x.lower() for keyword in all_list)) else 0)\n"
   ]
  },
  {
   "cell_type": "markdown",
   "metadata": {},
   "source": [
    "##### 4.1.3 处理文字描述：建立词典，对文字描述进行归类"
   ]
  },
  {
   "cell_type": "code",
   "execution_count": null,
   "metadata": {},
   "outputs": [],
   "source": [
    "#查看文字描述后，建立词典进行归类                     \n",
    "reason_dict = { \n",
    "\"Music uniqueness\" : [\"uniqueness\", \"voices\", \"lyrics\", \"catchy\", \"attractive\", \"music\", \"meaning\", \"meaningful\", \"uplifting\", \"inspirational\"],\n",
    "\"Reduced anxiety and bring happiness\" : [\"help\", \"struggle\", \"tough\", \"depression\", \"suicidal\", \"happy\", \"happier\", \"fun\"],\n",
    "\"High Quality Performance\": [\"performance\", \"phenomenal\", \"quality\", \"ethic\"],\n",
    "\"Idols Personality\" : [\"personality\",\"friendly\" ,\"creativity\", \"personalities\", \"respective\", \"fans\", \"talent\"],\n",
    "\"Study Asian/Korean culture\" : [\"culture\", \"study\", \"learn\"]\n",
    "}\n",
    "#用词典里的键创建reason_df表里的列\n",
    "for reason in reason_dict.keys():\n",
    "       reason_df[reason] = df['reason'].apply(lambda x: 1 if any(keyword in x.lower() for keyword in reason_dict[reason]) else 0)\n",
    "     "
   ]
  },
  {
   "cell_type": "markdown",
   "metadata": {},
   "source": [
    "##### 4.1.4 处理未被归类的值：定义函数"
   ]
  },
  {
   "cell_type": "code",
   "execution_count": null,
   "metadata": {},
   "outputs": [],
   "source": [
    "#定义函数，将之前未被归类的值归为others    \n",
    "def other_reason(x):\n",
    "    check_list = []\n",
    "    for tmp in x.split(\";\"):\n",
    "        if (all(all(keyword not in tmp.lower() for keyword in reason_dict[reason]) for reason in reason_dict.keys())) and \\\n",
    "      (all(reason not in tmp for reason in top_reasons_list)) and (all(value not in tmp.lower() for value in all_list)):\n",
    "            check_list.append(True)\n",
    "        else:\n",
    "            check_list.append(False)\n",
    "    if any(check_list):\n",
    "        return 1\n",
    "    else:\n",
    "        return 0\n",
    "\n",
    "reason_df[\"Others\"] = df['reason'].apply(lambda x: other_reason(x))\n",
    "#查看前五行\n",
    "reason_df.head()\n",
    "#导出csv\n",
    "reason_df.to_csv(\"reason.csv\", index = False)\n"
   ]
  },
  {
   "cell_type": "markdown",
   "metadata": {},
   "source": [
    "#### 4.2 清洗kpop_news列的数据："
   ]
  },
  {
   "cell_type": "markdown",
   "metadata": {},
   "source": [
    "##### 4.2.1 列出调查结果里的主要news"
   ]
  },
  {
   "cell_type": "code",
   "execution_count": null,
   "metadata": {},
   "outputs": [],
   "source": [
    "#建立空列表\n",
    "news_list = []\n",
    "#在分号处隔开，读取所有news\n",
    "tmp = df[\"kpop_news\"].to_list()\n",
    "for news in tmp:\n",
    "    for new in news.split(\";\"):\n",
    "        news_list.append(new)\n",
    "\n",
    "#统计每种news出现次数        \n",
    "news_count = pd.Series(news_list).value_counts()\n",
    "#列出出现次数大于10的news\n",
    "top_kpopnews_list = list(news_count[news_count>10].index)"
   ]
  },
  {
   "cell_type": "markdown",
   "metadata": {},
   "source": [
    "##### 4.2.2 处理固定选项："
   ]
  },
  {
   "cell_type": "code",
   "execution_count": null,
   "metadata": {},
   "outputs": [],
   "source": [
    "#三个固定选项主要是：youtube，social media groups和news sites。把文字描述中带有这几个关键词的描述归类进这三个固定选项里。\n",
    "youtube_list = [\"youtube\"]\n",
    "group_list = [\"amino\",\"reddit\"]  \n",
    "website_list = [\"soompi\", \"allkpop\"]   \n",
    "\n",
    "#建立空的DataFrame\n",
    "kpopnews_df = pd.DataFrame()\n",
    "#建立第一列\n",
    "kpopnews_df['Num'] = df['Num']\n",
    "for kpopnews in top_kpopnews_list:\n",
    "    if kpopnews == \"Subscribe to Youtube channels\":\n",
    "        kpopnews_df[kpopnews] = df['kpop_news'].apply(lambda x: 1 if (kpopnews in x) or any(keyword in x.lower() for keyword in youtube_list) else 0)\n",
    "    elif kpopnews == \"Join K-pop social media groups\":\n",
    "        kpopnews_df[kpopnews] = df['kpop_news'].apply(lambda x: 1 if (kpopnews in x) or any(keyword in x.lower() for keyword in group_list) else 0)\n",
    "    elif kpopnews == \"Subscribe to K-Pop news sites\":\n",
    "        kpopnews_df[kpopnews] = df['kpop_news'].apply(lambda x: 1 if (kpopnews in x) or any(keyword in x.lower() for keyword in website_list) else 0)"
   ]
  },
  {
   "cell_type": "markdown",
   "metadata": {},
   "source": [
    "##### 4.2.3 处理文字描述："
   ]
  },
  {
   "cell_type": "code",
   "execution_count": null,
   "metadata": {},
   "outputs": [],
   "source": [
    "#建立词典，对文字描述里更丰富的关键词进行归类\n",
    "news_dict = {\n",
    "\"Twitter\" : [\"twitter\", \"tweet\"],\n",
    "\"Chat\": [\"friend\", \"chat\", \"gc\"],\n",
    "\"Instagram\" : [\"instagram\", \"feeds\"],\n",
    "\"Soompi / Allkpop\" : [\"soompi\"],\n",
    "\"Follow idols' or fanbase social media accounts\" : [\"follow\", \"fan\"]\n",
    "}\n",
    "\n",
    "for news in news_dict.keys():\n",
    "    kpopnews_df[news] = df[\"kpop_news\"].apply(lambda x: 1 if any(keyword in x.lower() for keyword in news_dict[news]) else 0)"
   ]
  },
  {
   "cell_type": "markdown",
   "metadata": {},
   "source": [
    "##### 4.2.4 处理未被归类的值：定义函数"
   ]
  },
  {
   "cell_type": "code",
   "execution_count": null,
   "metadata": {},
   "outputs": [],
   "source": [
    "def other_news(x):\n",
    "    check_list = []\n",
    "    for tmp in x.split(';'):\n",
    "        if all(all(keyword not in tmp.lower() for keyword in news_dict[news]) for news in news_dict.keys()) and \\\n",
    "           all(keyword not in tmp for keyword in top_kpopnews_list) and \\\n",
    "           all(keyword not in tmp.lower() for keyword in (youtube_list+website_list+group_list)):\n",
    "            check_list.append(True)\n",
    "        else:\n",
    "            check_list.append(False)\n",
    "    \n",
    "    if any(check_list):\n",
    "        return 1\n",
    "    else:\n",
    "        return 0\n",
    "\n",
    "kpopnews_df[\"Others\"] = df[\"kpop_news\"].apply(lambda x: other_news(x))\n",
    "kpopnews_df.head()\n",
    "kpopnews_df.to_csv(\"kpop_news.csv\", index = False)"
   ]
  },
  {
   "cell_type": "markdown",
   "metadata": {},
   "source": [
    "#### 4.3 清洗pursuit列的数据："
   ]
  },
  {
   "cell_type": "markdown",
   "metadata": {},
   "source": [
    "##### 4.3.1 列出调查结果里的主要pursuit（固定选项+文字描述）"
   ]
  },
  {
   "cell_type": "code",
   "execution_count": null,
   "metadata": {},
   "outputs": [],
   "source": [
    "#建立空白列表\n",
    "pursuit_list = []\n",
    "tmp = df[\"pursuit\"].to_list()\n",
    "for pursuits in tmp:\n",
    "    #在分号处分割开，读取所有提到的pursuit\n",
    "    for pursuit in pursuits.split(\";\"):\n",
    "        pursuit_list.append(pursuit)   \n",
    "\n",
    "#对不同pursuit出现次数的计数\n",
    "pursuit_count = pd.Series(pursuit_list).value_counts()  \n",
    "#把出现次数多于10次的pursuit提取出来，存放在一个list里\n",
    "top_pursuit_list = list(pursuit_count[pursuit_count>10].index)   \n"
   ]
  },
  {
   "cell_type": "markdown",
   "metadata": {},
   "source": [
    "##### 4.3.2 处理文字描述："
   ]
  },
  {
   "cell_type": "markdown",
   "metadata": {},
   "source": [
    "通过查看pursuit列数据可发现，用文字描述里的部分关键词可把不同的文字描述归类到几个主要的pursuit里。"
   ]
  },
  {
   "cell_type": "code",
   "execution_count": null,
   "metadata": {},
   "outputs": [],
   "source": [
    " #把文字描述中的关键词分类，归入相应列表中\n",
    "all_list = [\"all\"]\n",
    "travel_list = [\"visit\", \"travel\"]\n",
    "art_list = [\"fashion\", \"makeup\", \"make up\", \"art\"]  \n",
    "dance_list = [\"dance\", \"dancing\"]\n",
    "music_list = [\"music\", \"sing\",\"instruments\", \"albums\"]  \n",
    "culture_list = [\"language\", \"speak\",\"culture\",\"help\",\"mind\",\"learn korean\"]    \n",
    "\n",
    "#建立空白的dataframe\n",
    "pursuit_df = pd.DataFrame()  \n",
    "#建立第一个列\n",
    "pursuit_df[\"Num\"] = df[\"Num\"]   \n",
    "for pursuit in top_pursuit_list:    \n",
    "    if pursuit == \"Learning about Korean/Asian culture\":\n",
    "        pursuit_df[pursuit] = df[\"pursuit\"].apply(lambda x: 1 if (pursuit in x) or any(keyword in x.lower() for keyword in (all_list+culture_list)) else 0)\n",
    "    elif pursuit == \"Learn about Korean fashion/makeup\":\n",
    "        pursuit_df[pursuit] = df[\"pursuit\"].apply(lambda x: 1 if (pursuit in x) or any(keyword in x.lower() for keyword in (all_list+art_list)) else 0)\n",
    "    elif pursuit == \"Visit Korea\":\n",
    "        pursuit_df[pursuit] = df[\"pursuit\"].apply(lambda x: 1 if (pursuit in x) or any(keyword in x.lower() for keyword in (all_list+travel_list)) else 0)\n",
    "    elif pursuit == \"Pursue dancing\":\n",
    "        pursuit_df[pursuit] = df[\"pursuit\"].apply(lambda x: 1 if (pursuit in x) or any(keyword in x.lower() for keyword in (all_list+dance_list)) else 0)\n",
    "    elif pursuit == \"Learning music - either an instrument or singing\":\n",
    "        pursuit_df[pursuit] = df[\"pursuit\"].apply(lambda x: 1 if (pursuit in x) or any(keyword in x.lower() for keyword in (all_list+music_list)) else 0)\n"
   ]
  },
  {
   "cell_type": "markdown",
   "metadata": {},
   "source": [
    "##### 4.3.3 处理未被归类的值：定义函数"
   ]
  },
  {
   "cell_type": "code",
   "execution_count": null,
   "metadata": {},
   "outputs": [],
   "source": [
    "#定义函数\n",
    "def other_pursuit(x):\n",
    "    check_list = []\n",
    "    for tmp in x.split(\";\"):\n",
    "        if all(keyword not in x for keyword in top_pursuit_list) and \\\n",
    "    all(keyword not in x.lower() for keyword in (all_list+travel_list+art_list+dance_list+music_list+culture_list)):\n",
    "            check_list.append(True)\n",
    "        else:\n",
    "            check_list.append(False)\n",
    "            \n",
    "    if any(check_list):\n",
    "        return 1\n",
    "    else:\n",
    "        return 0\n",
    "\n",
    "pursuit_df[\"Others\"] = df[\"pursuit\"].apply(lambda x: other_pursuit(x))\n",
    "pursuit_df.head()\n",
    "pursuit_df.to_csv(\"pursuit.csv\", index = False)\n"
   ]
  },
  {
   "cell_type": "markdown",
   "metadata": {},
   "source": [
    "### 步骤5: 清洗数据格式整齐一致的列："
   ]
  },
  {
   "cell_type": "markdown",
   "metadata": {},
   "source": [
    "#### 5.1 清洗pop_by_country列"
   ]
  },
  {
   "cell_type": "code",
   "execution_count": null,
   "metadata": {},
   "outputs": [],
   "source": [
    "#因为这一列的格式统一内容固定，只需要用groupby对其进行统计\n",
    "df.groupby([\"pop_by_country\"])['Num'].count()\n"
   ]
  },
  {
   "cell_type": "markdown",
   "metadata": {},
   "source": [
    "#### 5.2 清洗daily_mv_hr列"
   ]
  },
  {
   "cell_type": "code",
   "execution_count": null,
   "metadata": {},
   "outputs": [],
   "source": [
    " #建立词典\n",
    "mymap = {'1 hour':1, '2-3 hours':2.5, '3-4 hours':3.5, 'More than four hours':4.5}   \n",
    "#应用lambda函数\n",
    "df = df.applymap(lambda s: mymap.get(s) if s in mymap else s)\n",
    "#用中值填补空格\n",
    "df[\"daily_mv_hr\"].fillna(df[\"daily_mv_hr\"].mode().values[0] , inplace = True)\n",
    "#日mv观看时长人数统计\n",
    "df.groupby([\"daily_mv_hr\"])['Num'].count()       "
   ]
  },
  {
   "cell_type": "markdown",
   "metadata": {},
   "source": [
    "#### 5.3 清洗daily_music_hr列"
   ]
  },
  {
   "cell_type": "code",
   "execution_count": null,
   "metadata": {},
   "outputs": [],
   "source": [
    "#把输入值为2020-07-24 00:00:00的格归类为Others\n",
    "df[\"daily_music_hr\"] = df[\"daily_music_hr\"].astype(str).replace(\"2020-07-24 00:00:00\", \"Others\")\n",
    "all_list = [\"all\", \"whole\", \"everyday\", \"hours on end\", \"most\", \"every hour\"]\n",
    "everytime_list = [\"any\", \"chance\", \"anytime\", \"whenever\"]\n",
    "mood_list = [\"depend\",\"mood\"]\n",
    "ans1_list = [\"2-4 hours\"]\n",
    "ans2_list = [\"5 or more\", \"half of my day\"]\n",
    "ans3_list = [\"less than an hour\"]\n",
    "\n",
    "#定义函数\n",
    "def music_hour(x):\n",
    "    if any(keyword in x.lower() for keyword in everytime_list):\n",
    "        return \"Whenever listen to music\"\n",
    "    elif any(keyword in x.lower() for keyword in mood_list):\n",
    "        return \"Depend on the mood\"\n",
    "    elif any(keyword in x.lower() for keyword in all_list):\n",
    "        return \"24/7\"\n",
    "    elif any(keyword in x.lower() for keyword in ans1_list):\n",
    "        return \"2-4 hours\"\n",
    "    elif any(keyword in x.lower() for keyword in ans2_list):\n",
    "        return \"5 or more\"\n",
    "    elif any(keyword in x.lower() for keyword in ans3_list):\n",
    "        return \"Less than an hours\"\n",
    "    else:\n",
    "        return \"Others\"\n",
    "#应用函数\n",
    "df[\"daily_music_hr\"] = df[\"daily_music_hr\"].apply(lambda x: music_hour(x))\n",
    "#不同时间段的统计\n",
    "df.groupby([\"daily_music_hr\"])['Num'].count()"
   ]
  },
  {
   "cell_type": "code",
   "execution_count": null,
   "metadata": {},
   "outputs": [],
   "source": []
  }
 ],
 "metadata": {
  "kernelspec": {
   "display_name": "Python 3",
   "language": "python",
   "name": "python3"
  },
  "language_info": {
   "codemirror_mode": {
    "name": "ipython",
    "version": 3
   },
   "file_extension": ".py",
   "mimetype": "text/x-python",
   "name": "python",
   "nbconvert_exporter": "python",
   "pygments_lexer": "ipython3",
   "version": "3.7.4"
  },
  "nbTranslate": {
   "displayLangs": [
    "en"
   ],
   "hotkey": "alt-t",
   "langInMainMenu": true,
   "sourceLang": "en",
   "targetLang": "fr",
   "useGoogleTranslate": true
  },
  "toc": {
   "base_numbering": 1,
   "nav_menu": {},
   "number_sections": false,
   "sideBar": true,
   "skip_h1_title": false,
   "title_cell": "Table of Contents",
   "title_sidebar": "Contents",
   "toc_cell": false,
   "toc_position": {},
   "toc_section_display": true,
   "toc_window_display": true
  }
 },
 "nbformat": 4,
 "nbformat_minor": 2
}
