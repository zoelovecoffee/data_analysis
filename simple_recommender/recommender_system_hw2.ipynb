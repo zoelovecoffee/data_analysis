{
 "cells": [
  {
   "cell_type": "code",
   "execution_count": null,
   "metadata": {},
   "outputs": [],
   "source": [
    "import numpy as np\n",
    "from sklearn.metrics.pairwise import cosine_similarity\n",
    "\n",
    "user_show_matrix = []\n",
    "with open('user-shows.txt') as f:\n",
    "    data = f.read()\n",
    "a = data.split('\\n')\n",
    "for item in a:\n",
    "    temp = item.split(' ')\n",
    "    user_show_matrix.append(temp)\n",
    "r_matrix = user_show_matrix[:-1] \n",
    "r_matrix = np.array(r_matrix)"
   ]
  },
  {
   "cell_type": "code",
   "execution_count": null,
   "metadata": {},
   "outputs": [],
   "source": [
    "# User-to-user Recommender System.\n",
    "\n",
    "alex = r_matrix[499].reshape(1,563)\n",
    "show_score_1 = np.zeros((1,100))\n",
    "\n",
    "for j in range(100):\n",
    "    score = 0\n",
    "    for i in range(9985):\n",
    "        user = r_matrix[i].reshape(1,563)\n",
    "        cos_sim = cosine_similarity(alex, user)\n",
    "        cos_sim_num = cos_sim[0][0]\n",
    "        score = score + cos_sim_num * int(r_matrix[i,j])\n",
    "    show_score_1[0,j] = score"
   ]
  },
  {
   "cell_type": "code",
   "execution_count": 76,
   "metadata": {},
   "outputs": [
    {
     "data": {
      "text/plain": [
       "array([[188.59095884, 569.41450915, 568.80711536, 186.24072722,\n",
       "        253.15028009, 729.59185809, 218.79645718, 114.68402905,\n",
       "        431.55765849, 757.6011181 , 489.35065638, 591.34561233,\n",
       "        207.46147075, 557.54716924, 453.0295513 , 547.39671699,\n",
       "        344.58153932, 455.34474982, 104.2195372 , 466.40427014,\n",
       "        639.13754998, 297.62577544, 300.40175337, 210.27206227,\n",
       "        130.50933071, 594.45184705, 172.30662382, 255.93240328,\n",
       "        263.94341468, 321.6388011 , 108.37179798, 326.44840703,\n",
       "        233.00434676, 127.61618964, 416.0280739 , 627.16286663,\n",
       "        455.07164891, 132.95540117, 356.6420695 , 139.15286995,\n",
       "        435.82398784, 357.47939487, 143.95838718, 560.3102567 ,\n",
       "        449.38101439, 827.60129547, 622.76122641,  54.3300465 ,\n",
       "        355.90024534, 128.47843307, 143.06936636, 158.75536858,\n",
       "        170.90419013, 214.70097076, 404.76554336, 433.94858692,\n",
       "        422.47372148, 311.32817886, 390.01829103, 661.06075267,\n",
       "        784.7819589 ,  97.64569408, 698.65827146, 381.90046052,\n",
       "        688.5072859 , 612.37694128, 250.81782938, 491.3530235 ,\n",
       "        733.12651934, 266.15732844, 236.50513635, 403.29756561,\n",
       "        707.51919329, 467.73042954, 861.17599929, 126.07435654,\n",
       "        616.62444782, 222.97224342, 163.73152051, 131.26156651,\n",
       "         88.56376657, 453.1426478 , 732.43291382, 236.11493403,\n",
       "        196.26988516, 288.50750291, 405.98535711, 429.93556951,\n",
       "        492.14613085, 270.80606118, 630.63744206, 368.9741509 ,\n",
       "        128.86110466, 281.95264211, 145.91438238, 137.65102897,\n",
       "        908.48005348, 628.72570435, 448.55152314, 560.03224963]])"
      ]
     },
     "execution_count": 76,
     "metadata": {},
     "output_type": "execute_result"
    }
   ],
   "source": [
    "show_score_1"
   ]
  },
  {
   "cell_type": "code",
   "execution_count": 125,
   "metadata": {},
   "outputs": [
    {
     "name": "stdout",
     "output_type": "stream",
     "text": [
      "\"FOX 28 News at 10pm\" with a score of 908.4800534761246\n",
      "\"Family Guy\" with a score of 861.175999287327\n",
      "\"2009 NCAA Basketball Tournament\" with a score of 827.6012954743547\n",
      "\"NBC 4 at Eleven\" with a score of 784.7819589039703\n",
      "\"Two and a Half Men\" with a score of 757.6011181024223\n"
     ]
    }
   ],
   "source": [
    "# Top 5 shows that have the highest similarity scores for Alex.\n",
    "with open('shows.txt') as f1:\n",
    "    show = f1.read()\n",
    "all_show = show.split('\\n')\n",
    "\n",
    "r_score = show_score_1[0]\n",
    "u2u_top_5 = r_score.argsort()[-5:][::-1]\n",
    "\n",
    "for i in range(5):\n",
    "    print(str(all_show[u2u_top_5[i]]) + ' with a score of ' + str(show_score_1[0][u2u_top_5[i]]))   "
   ]
  },
  {
   "cell_type": "code",
   "execution_count": 77,
   "metadata": {},
   "outputs": [],
   "source": [
    "# Item-to-item Recommender System\n",
    "\n",
    "show_score_2 = np.zeros((1,100))\n",
    "for j in range(100):\n",
    "    item1 = r_matrix[:,j].reshape(1,9985)\n",
    "    score = 0\n",
    "    for itm in range(563):\n",
    "        item2 = r_matrix[:,itm].reshape(1,9985)\n",
    "        cos_sim = cosine_similarity(item1, item2)\n",
    "        cos_sim_num = cos_sim[0][0]\n",
    "        score = score + cos_sim_num * int(r_matrix[499,itm])\n",
    "    show_score_2[0,j] = score\n"
   ]
  },
  {
   "cell_type": "code",
   "execution_count": 78,
   "metadata": {},
   "outputs": [
    {
     "data": {
      "text/plain": [
       "array([[15.16799039, 25.52647214, 25.81764515, 14.21732527, 17.5983246 ,\n",
       "        28.6726676 , 14.76532297, 11.64191307, 21.63369623, 28.84972764,\n",
       "        23.27533953, 24.60843577, 15.06020385, 23.77199458, 22.97657979,\n",
       "        24.29467134, 20.17699228, 24.0721633 , 10.31334499, 22.92127216,\n",
       "        27.9938319 , 19.05437648, 20.25909609, 14.62272946, 12.66150194,\n",
       "        26.17072379, 13.59269147, 17.60714327, 17.50259646, 17.78692476,\n",
       "        11.15368631, 21.46931873, 15.05385914, 12.56098362, 21.7676052 ,\n",
       "        26.2564853 , 22.29295725, 14.41955548, 20.72130563, 15.83509503,\n",
       "        22.30373561, 20.15247016, 14.49038734, 25.31920047, 22.68929349,\n",
       "        29.22700156, 24.78745564,  7.22415726, 22.49552939, 12.68581339,\n",
       "        12.25585392, 13.44373784, 13.79964784, 16.32661102, 19.74146477,\n",
       "        23.30877592, 22.59430101, 18.15804809, 20.56887327, 27.65599488,\n",
       "        29.39679777,  9.86333129, 27.71873252, 23.23089417, 27.32075257,\n",
       "        25.94178055, 19.65208177, 23.82960559, 28.68499509, 19.70539833,\n",
       "        19.16812159, 21.98933956, 28.01378013, 24.06787069, 30.0011418 ,\n",
       "        13.16354781, 25.89520988, 17.46616414, 14.69016972, 13.46186798,\n",
       "         9.59632897, 22.57889676, 28.97127767, 16.48239347, 15.65520139,\n",
       "        19.46350495, 22.85530941, 23.18633426, 24.10141737, 17.3095187 ,\n",
       "        26.98837626, 21.33258702, 12.41348554, 18.32972217, 13.55945234,\n",
       "        13.01135861, 31.36470168, 26.38499766, 23.32207497, 25.45371949]])"
      ]
     },
     "execution_count": 78,
     "metadata": {},
     "output_type": "execute_result"
    }
   ],
   "source": [
    "show_score_2"
   ]
  },
  {
   "cell_type": "code",
   "execution_count": 126,
   "metadata": {},
   "outputs": [
    {
     "name": "stdout",
     "output_type": "stream",
     "text": [
      "\"FOX 28 News at 10pm\" with a score of 31.364701678342396\n",
      "\"Family Guy\" with a score of 30.00114179887778\n",
      "\"NBC 4 at Eleven\" with a score of 29.396797773402557\n",
      "\"2009 NCAA Basketball Tournament\" with a score of 29.227001561500472\n",
      "\"Access Hollywood\" with a score of 28.971277674055557\n"
     ]
    }
   ],
   "source": [
    "# Top 5 shows that have the highest similarity scores for Alex.\n",
    "r_score_2 = show_score_2[0]\n",
    "i2i_top_5 = r_score_2.argsort()[-5:][::-1]\n",
    "\n",
    "for i in range(5):\n",
    "    print(str(all_show[i2i_top_5[i]]) + ' with a score of ' + str(show_score_2[0][i2i_top_5[i]]))"
   ]
  },
  {
   "cell_type": "code",
   "execution_count": 79,
   "metadata": {},
   "outputs": [
    {
     "data": {
      "text/plain": [
       "((9985, 9985), (563,), (563, 563))"
      ]
     },
     "execution_count": 79,
     "metadata": {},
     "output_type": "execute_result"
    }
   ],
   "source": [
    "# Latent hidden model Recommender System\n",
    "from scipy import linalg\n",
    "\n",
    "U, s, Vh = linalg.svd(r_matrix)\n",
    "U.shape,  s.shape, Vh.shape"
   ]
  },
  {
   "cell_type": "code",
   "execution_count": 88,
   "metadata": {},
   "outputs": [],
   "source": [
    "U_lr = U[:,:10]\n",
    "Vh_lr = Vh[:10,:]\n",
    "\n",
    "s_lr = np.zeros((10, 10))\n",
    "for i in range(10):\n",
    "    s_lr[i, i] = s[i] \n",
    "\n",
    "r_pred = np.dot(U_lr, np.dot(s_lr, Vh_lr))"
   ]
  },
  {
   "cell_type": "code",
   "execution_count": 157,
   "metadata": {},
   "outputs": [],
   "source": [
    "r_pred_alex = r_pred[499,:100]"
   ]
  },
  {
   "cell_type": "code",
   "execution_count": 159,
   "metadata": {},
   "outputs": [
    {
     "data": {
      "text/plain": [
       "array([63, 48, 20, 69, 17])"
      ]
     },
     "execution_count": 159,
     "metadata": {},
     "output_type": "execute_result"
    }
   ],
   "source": [
    "top_5 = r_pred_alex.argsort()[-5:][::-1]\n",
    "top_5"
   ]
  },
  {
   "cell_type": "code",
   "execution_count": 160,
   "metadata": {},
   "outputs": [
    {
     "name": "stdout",
     "output_type": "stream",
     "text": [
      "\"Wow Wow Wubbzy\" with a score of 0.6985227720420748\n",
      "\"Max and Ruby\" with a score of 0.6547618180802611\n",
      "\"CBS Evening News\" with a score of 0.6416619222606893\n",
      "\"Blue's Clues\" with a score of 0.5877393095770018\n",
      "\"The Young and the Restless\" with a score of 0.5608630598353632\n"
     ]
    }
   ],
   "source": [
    "# Top 5 shows for Alex.\n",
    "for i in range(5):\n",
    "    print(str(all_show[top_5[i]]) + ' with a score of ' + str(r_pred_alex[top_5[i]]))"
   ]
  },
  {
   "cell_type": "code",
   "execution_count": null,
   "metadata": {},
   "outputs": [],
   "source": []
  }
 ],
 "metadata": {
  "kernelspec": {
   "display_name": "Python 3",
   "language": "python",
   "name": "python3"
  },
  "language_info": {
   "codemirror_mode": {
    "name": "ipython",
    "version": 3
   },
   "file_extension": ".py",
   "mimetype": "text/x-python",
   "name": "python",
   "nbconvert_exporter": "python",
   "pygments_lexer": "ipython3",
   "version": "3.7.4"
  }
 },
 "nbformat": 4,
 "nbformat_minor": 2
}
